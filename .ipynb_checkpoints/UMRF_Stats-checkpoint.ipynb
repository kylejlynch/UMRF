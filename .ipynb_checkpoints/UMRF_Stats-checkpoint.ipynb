{
 "cells": [
  {
   "cell_type": "markdown",
   "metadata": {},
   "source": [
    "# UMRF Ventures Agent Data and Statistics"
   ]
  },
  {
   "cell_type": "markdown",
   "metadata": {},
   "source": [
    "This notebook demonstrates a current project of mine that logs weekly data from UMRF Ventures and performs statistics.\n",
    "UMRF Ventures is a start-up that opened in August of 2017 and runs a Level 1 call center that troubleshoots IT issues for common services for FedEx employees worldwide.\n",
    "Weekly, we receive performance data on each of our agents (e.g. Talk time, percentage of issues resolved, survey scores, etc.)\n",
    "\n",
    "Data is received weekly in .csv format as shown below:"
   ]
  },
  {
   "cell_type": "markdown",
   "metadata": {},
   "source": [
    "![](img/Sprdshtcens.png)"
   ]
  },
  {
   "cell_type": "markdown",
   "metadata": {},
   "source": [
    "One of our agents would spend hours at a time compiling and performing statistics periodically. I knew that as UMRF Ventures grew this task would become increasingly arduous. I took it upon myself to come up with a more sophisticated approach. I wrote a program using Python and SQLite to extract raw data from the .csv files and construct\n",
    "an SQL table for each agent which keeps track of each agents data. Below is my current code:"
   ]
  },
  {
   "cell_type": "markdown",
   "metadata": {},
   "source": [
    "```python\n",
    "import sqlite3\n",
    "\n",
    "conn = sqlite3.connect('UMRF_SQL2.sqlite')\n",
    "cur = conn.cursor()\n",
    "\n",
    "cur.execute('''CREATE TABLE Employees (EmployeeNumber INTEGER PRIMARY\n",
    "            KEY NOT NULL UNIQUE, Lastname TEXT, FirstName TEXT)''')\n",
    "\n",
    "filelist = ['week1.csv', 'week2.csv', 'week3.csv', 'week4.csv', 'week5.csv']\n",
    "for file in filelist :\n",
    "    cruzname = list()\n",
    "    fullname = list()\n",
    "    fh = open(file, 'r')\n",
    "    for line in fh :\n",
    "        if line.startswith('LastName') :\n",
    "            continue\n",
    "        pieces = line.split(',')\n",
    "        cur.execute('''SELECT EmployeeNumber FROM Employees WHERE\n",
    "                    EmployeeNumber = ? ''', (pieces[2],))\n",
    "        row = cur.fetchone()\n",
    "        if row is None :\n",
    "            cur.execute('''INSERT INTO Employees(\n",
    "                    EmployeeNumber, LastName, FirstName)\n",
    "                    VALUES (?, ?, ?)''', (pieces[2], pieces[0], pieces[1]))\n",
    "\n",
    "    listname = cur.execute('''SELECT * FROM Employees''')\n",
    "\n",
    "    for i in listname :\n",
    "        cruzname.append(str(i[1])+'_'+str(i[2])+'_'+str(i[0]))\n",
    "\n",
    "    #Cruz Loop\n",
    "    for i in cruzname :\n",
    "        if '-' in i :\n",
    "            i = i.replace('-' , '_')\n",
    "        fullname.append(i)\n",
    "    \n",
    "    for i in fullname :\n",
    "        cur.execute('''CREATE TABLE IF NOT EXISTS %s (\n",
    "                Lastname, Firstname, EmployeeNumber, \n",
    "                NumberOfSurveys, AvgSurveyScore100, \n",
    "                AvgSurveyScore5 INTEGER, IncidentsCreated INTEGER, \n",
    "                IncidentsCreatedAndResolved INTEGER, FCR_percent INTEGER, \n",
    "                IncidentsResolved INTEGER, LoggedOnTime_hrs INTEGER, \n",
    "                AvailTime_hrs INTEGER, NotReadyTime_hrs INTEGER, \n",
    "                NR_percent INTEGER, CallsAnswered INTEGER, \n",
    "                ACH_percent INTEGER, ASA_min INTEGER, CallsHandled INTEGER, \n",
    "                AHT_min INTEGER, AbandonRingCalls INTEGER, \n",
    "                AbandonHoldCalls INTEGER, AbandonHoldOutCalls INTEGER, \n",
    "                ShortCalls INTEGER)''' % i)\n",
    "\n",
    "    for i in fullname :\n",
    "        fh = open(file, 'r')\n",
    "        for line in fh:\n",
    "            if line.startswith('LastName') :\n",
    "                continue\n",
    "            pieces = line.split(',')\n",
    "            if pieces[2] not in i :\n",
    "                continue\n",
    "            fcr = pieces[8].split('%')[0]\n",
    "            logon_hrs = pieces[10].split(':')\n",
    "            logon_hrs = (float(logon_hrs[0]) + \n",
    "                         (float(logon_hrs[1])/60) + \n",
    "                         (float(logon_hrs[2])/3600))\n",
    "            avtime_hrs = pieces[11].split(':')\n",
    "            avtime_hrs = (float(avtime_hrs[0]) + \n",
    "                          (float(avtime_hrs[1])/60) + \n",
    "                          (float(avtime_hrs[2])/3600))\n",
    "            nrtime_hrs = pieces[12].split(':')\n",
    "            nrtime_hrs = (float(nrtime_hrs[0]) + \n",
    "                          (float(nrtime_hrs[1])/60) + \n",
    "                          (float(nrtime_hrs[2])/3600))\n",
    "            asa_min = pieces[16].split(':')\n",
    "            asa_min = ((float(asa_min[0]*60)) + \n",
    "                       float(asa_min[1]) + \n",
    "                       (float(asa_min[2])/60))\n",
    "            aht_min = pieces[18].split(':')\n",
    "            aht_min = ((float(aht_min[0]*60)) + \n",
    "                       float(aht_min[1]) + \n",
    "                       (float(aht_min[2])/60))\n",
    "            pieces[22] = pieces[22].rstrip()\n",
    "            cur.execute('''INSERT INTO %s (\n",
    "                        Lastname, Firstname, EmployeeNumber, NumberOfSurveys, \n",
    "                        AvgSurveyScore100,AvgSurveyScore5, IncidentsCreated, \n",
    "                        IncidentsCreatedAndResolved, FCR_percent, \n",
    "                        IncidentsResolved, LoggedOnTime_hrs, AvailTime_hrs, \n",
    "                        NotReadyTime_hrs, NR_percent, CallsAnswered, \n",
    "                        ACH_percent, ASA_min, CallsHandled,\n",
    "                        AHT_min, AbandonRingCalls, \n",
    "                        AbandonHoldCalls, AbandonHoldOutCalls, ShortCalls)\n",
    "                        VALUES (\n",
    "                        ?, ?, ?, ?, ?, ?, ?, ?, ?, ?, ?, ?, ?, ?, ?, ?, ?, ?,\n",
    "                        ?, ?, ?, ?, ?)''' %i, (pieces[0], pieces[1],\n",
    "                        pieces[2], pieces[3], pieces[4], pieces[5], \n",
    "                        pieces[6], pieces[7], fcr, pieces[9], logon_hrs, \n",
    "                        avtime_hrs, nrtime_hrs, pieces[13], pieces[14], \n",
    "                        pieces[15], asa_min, pieces[17], aht_min, \n",
    "                        pieces[19], pieces[20], pieces[21], pieces[22]))\n",
    "            break\n",
    "        continue\n",
    "\n",
    "cur.execute('''CREATE TABLE IF NOT EXISTS Summary (\n",
    "            'Last Name', \n",
    "            'First Name', \n",
    "            'Employee Number', \n",
    "            'Number of Surveys', \n",
    "            'Incidents Created', \n",
    "            'Incidents Resolved', \n",
    "            'Incidents Created and Resolved',\n",
    "            'FCR (%)',\n",
    "            'Avg Survey Score (100)', \n",
    "            'AvgSurveyScore (5)', \n",
    "            'Avg Log On Time (hrs)', \n",
    "            'Avg Available Time (hrs)', \n",
    "            'Percent Not Ready (%)', \n",
    "            'Total Calls Answered', \n",
    "            'Total Calls Handled', \n",
    "            'Avg Handle Time (min)', \n",
    "            'Calls Per Hour Logged (ACH)'\n",
    "            ) ''')\n",
    "\n",
    "for i in fullname :\n",
    "   cur.execute('''INSERT INTO Summary\n",
    "                SELECT Lastname As 'Last Name',\n",
    "                Firstname AS 'First Name',\n",
    "                EmployeeNumber AS 'Employee Number', \n",
    "                sum(NumberOfSurveys) AS 'Number of Surveys', \n",
    "                sum(IncidentsCreated) AS 'Incidents Created', \n",
    "                sum(IncidentsResolved) AS 'Incidents Resolved', \n",
    "                sum(IncidentsCreatedAndResolved) AS \n",
    "                'Incidents Created and Resolved',\n",
    "                (sum(CAST(IncidentsCreatedAndResolved AS \n",
    "                float))/sum(CAST(IncidentsCreated AS float)))*100 AS\n",
    "                'FCR (%)',\n",
    "                sum(NumberOfSurveys*AvgSurveyScore100)/sum(NumberOfSurveys) AS\n",
    "                'Avg Survey Score (100)', \n",
    "                sum(NumberOfSurveys*AvgSurveyScore5)/sum(NumberOfSurveys) AS\n",
    "                'AvgSurveyScore (5)', \n",
    "                avg(LoggedOnTime_hrs) AS 'Avg Log On Time (hrs)', \n",
    "                avg(AvailTime_hrs) AS 'Avg Available Time (hrs)', \n",
    "                (sum(CAST(NotReadyTime_hrs AS float))\n",
    "                /sum(CAST(LoggedOnTime_hrs AS float)))*100 AS\n",
    "                'Percent Not Ready (%)', \n",
    "                sum(CallsAnswered) AS 'Total Calls Answered', \n",
    "                sum(CallsHandled) AS 'Total Calls Handled', \n",
    "                sum(AHT_min*CallsHandled)/sum(CallsHandled) AS\n",
    "                'Avg Handle Time (min)', \n",
    "                (sum(CallsAnswered)/sum(CAST(LoggedOnTime_hrs AS float))) AS\n",
    "                'Calls Per Hour Logged (ACH)' \n",
    "                FROM {} ''' .format(i))\n",
    "\n",
    "conn.commit()\n",
    "cur.close()\n",
    "```"
   ]
  },
  {
   "cell_type": "markdown",
   "metadata": {},
   "source": [
    "The result is an SQL database that keeps track of agent data over all time with a summary table that provides statistics that changes as weekly data is appended."
   ]
  },
  {
   "cell_type": "markdown",
   "metadata": {},
   "source": [
    "![](img/SQL1.png)"
   ]
  },
  {
   "cell_type": "markdown",
   "metadata": {},
   "source": [
    "This data is then used to provide feedback to the agents and decide whether agents get raises. Currently I am working with one of the agents to extract data from our time logging system. I am interested to see if there is any correlation between average shift worked (time of the day) and performance as different sets of caller issues occur primarily at different times of the day. Therefore, I wonder if comparing agents that can only work night shifts to those that can work mornings is a fair, unbiased assessment."
   ]
  },
  {
   "cell_type": "code",
   "execution_count": null,
   "metadata": {
    "collapsed": true
   },
   "outputs": [],
   "source": []
  }
 ],
 "metadata": {
  "kernelspec": {
   "display_name": "Python 3",
   "language": "python",
   "name": "python3"
  },
  "language_info": {
   "codemirror_mode": {
    "name": "ipython",
    "version": 3
   },
   "file_extension": ".py",
   "mimetype": "text/x-python",
   "name": "python",
   "nbconvert_exporter": "python",
   "pygments_lexer": "ipython3",
   "version": "3.6.3"
  }
 },
 "nbformat": 4,
 "nbformat_minor": 2
}
